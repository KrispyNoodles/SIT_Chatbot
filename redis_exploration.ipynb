{
 "cells": [
  {
   "cell_type": "code",
   "execution_count": 2,
   "metadata": {},
   "outputs": [],
   "source": [
    "from langchain_openai import OpenAIEmbeddings\n",
    "from dotenv import dotenv_values\n",
    "import json\n",
    "from langchain.document_loaders import PyPDFLoader\n",
    "from langchain.text_splitter import RecursiveCharacterTextSplitter\n",
    "from langchain_redis import RedisConfig, RedisVectorStore\n",
    "\n",
    "# retrieving the env file\n",
    "env_vars = dotenv_values(\".env\")\n",
    "\n",
    "REDIS_URL = env_vars[\"REDIS_URL\"]\n",
    "\n",
    "# entering the creditials\n",
    "embeddings = OpenAIEmbeddings(\n",
    "    model=\"text-embedding-3-small\",\n",
    "    api_key=env_vars[\"OPENAI_API_KEY\"],\n",
    ")\n",
    "\n",
    "# defining the configuration\n",
    "config = RedisConfig(\n",
    "    index_name=\"documents\",\n",
    "    redis_url=REDIS_URL,\n",
    "    metadata_schema=[\n",
    "        {\"name\": \"category\", \"type\": \"tag\"},\n",
    "    ],\n",
    ")\n",
    "\n",
    "vector_store = RedisVectorStore(embeddings, config=config)\n",
    "\n",
    "# handling JSON files\n",
    "def json_adder(filename, vector_store):\n",
    "\n",
    "    # each JSON file has to have a category and a content\n",
    "\n",
    "    # Loading the JSON file\n",
    "    with open(filename, 'r') as f:\n",
    "        json_data = json.load(f)\n",
    "\n",
    "    # Extract texts and metadata from the JSON file\n",
    "    json_texts = [item[\"content\"] for item in json_data]\n",
    "    json_metadata = [{\"category\": item[\"category\"]} for item in json_data]\n",
    "\n",
    "    # Add JSON data to Redis vector store\n",
    "    vector_store.add_texts(json_texts, json_metadata)\n",
    "\n",
    "# handling PDF files\n",
    "def pdf_adder(filename, vector_store):\n",
    "\n",
    "    # Load the PDF\n",
    "    pdf_loader = PyPDFLoader(filename)\n",
    "    pdf_docs = pdf_loader.load()\n",
    "\n",
    "    # Split the PDF into smaller chunks\n",
    "    text_splitter = RecursiveCharacterTextSplitter(chunk_size=1000, chunk_overlap=200)\n",
    "    pdf_splits = text_splitter.split_documents(pdf_docs)\n",
    "\n",
    "    # Extract texts and metadata from PDF splits\n",
    "    pdf_texts = [chunk.page_content for chunk in pdf_splits]\n",
    "    pdf_metadata = [{\"page_number\": chunk.metadata.get(\"page\", \"unknown\"), \"category\": \"pdf\"} for chunk in pdf_splits]\n",
    "\n",
    "    vector_store.add_texts(pdf_texts, pdf_metadata)\n",
    "\n",
    "# Adding JSON files\n",
    "json_adder(\"sit_data.json\", vector_store)\n",
    "\n",
    "# Add PDF chunks to Redis vector store\n",
    "pdf_location = \"/home/krispy_noodles/chat_bot/assets/SIT_handbook.pdf\"\n",
    "pdf_adder(pdf_location, vector_store)"
   ]
  },
  {
   "cell_type": "code",
   "execution_count": 3,
   "metadata": {},
   "outputs": [
    {
     "data": {
      "text/plain": [
       "True"
      ]
     },
     "execution_count": 3,
     "metadata": {},
     "output_type": "execute_result"
    }
   ],
   "source": [
    "import redis\n",
    "\n",
    "r = redis.Redis(\n",
    "  host='redis-19030.c1.ap-southeast-1-1.ec2.redns.redis-cloud.com',\n",
    "  port=19030,\n",
    "  password=env_vars[\"REDIS_PW\"])\n",
    "\n",
    "# converting the vector store into a yaml file\n",
    "yml_file_name = \"redis_schema.yaml\"\n",
    "\n",
    "vector_store.index.schema.to_yaml(yml_file_name)\n",
    "\n",
    "# Read the YAML file contents\n",
    "with open(yml_file_name, 'r') as f:\n",
    "    schema_yaml = f.read()\n",
    "\n",
    "# Store the YAML schema in Redis\n",
    "r.set(\"vector_store_schema\", schema_yaml)"
   ]
  },
  {
   "cell_type": "code",
   "execution_count": 1,
   "metadata": {},
   "outputs": [
    {
     "name": "stdout",
     "output_type": "stream",
     "text": [
      "22:48:27 redisvl.index.index INFO   Index already exists, not overwriting.\n"
     ]
    },
    {
     "data": {
      "text/plain": [
       "'There are engineering courses in Mechatronics and Software Engineering, Robotics and Machine Learning, Systems Engineering and Project Management, as well as Sustainable Building Engineering. These courses cover areas such as mechanical engineering, electronics, control and automation, software technology, decarbonisation, energy efficiency, and sustainable urban systems. Additionally, career opportunities include roles like Embedded Systems Engineer, Systems Engineer, Project Engineer, and Software Engineer.'"
      ]
     },
     "execution_count": 1,
     "metadata": {},
     "output_type": "execute_result"
    }
   ],
   "source": [
    "from langchain_core.output_parsers import StrOutputParser\n",
    "from langchain_core.prompts import ChatPromptTemplate\n",
    "from langchain_core.runnables import RunnablePassthrough\n",
    "from langchain_openai import ChatOpenAI, OpenAIEmbeddings\n",
    "import redis\n",
    "from langchain_redis import RedisVectorStore\n",
    "from dotenv import dotenv_values\n",
    "\n",
    "# retrieving the env file\n",
    "env_vars = dotenv_values(\".env\")\n",
    "\n",
    "r = redis.Redis(\n",
    "  host='redis-19030.c1.ap-southeast-1-1.ec2.redns.redis-cloud.com',\n",
    "  port=19030,\n",
    "  password=env_vars[\"REDIS_PW\"])\n",
    "\n",
    "# declaring the model and using the variables from the env file\n",
    "llm = ChatOpenAI(\n",
    "    api_key=env_vars[\"OPENAI_API_KEY\"],\n",
    ")\n",
    "\n",
    "# entering the creditials\n",
    "embeddings = OpenAIEmbeddings(\n",
    "    model=\"text-embedding-3-small\",\n",
    "    api_key=env_vars[\"OPENAI_API_KEY\"],\n",
    ")\n",
    "\n",
    "REDIS_URL = env_vars[\"REDIS_URL\"]\n",
    "\n",
    "# retrieved yaml schema from Redis\n",
    "schema_yaml_from_redis = r.get(\"vector_store_schema\")\n",
    "schema_yaml_str = schema_yaml_from_redis.decode(\"utf-8\")\n",
    "\n",
    "with open(\"retrieved_vector_store_schema.yaml\", \"w\") as f:\n",
    "        f.write(schema_yaml_str)\n",
    "\n",
    "new_vector_store = RedisVectorStore(\n",
    "    embeddings,\n",
    "    redis_url=REDIS_URL,\n",
    "    schema_path=\"retrieved_vector_store_schema.yaml\"\n",
    ")\n",
    "\n",
    "retriever = new_vector_store.as_retriever(search_type=\"similarity\", search_kwargs={\"k\": 3})\n",
    "\n",
    "# Prompt\n",
    "prompt = ChatPromptTemplate.from_messages(\n",
    "    [\n",
    "        (\n",
    "            \"human\",\n",
    "            \"\"\"You are an assistant for question-answering tasks. Use the following pieces of retrieved context to answer the question. If you don't know the answer, just say that you don't know. Use three sentences maximum and keep the answer concise.\n",
    "            Question: {question} \n",
    "            Context: {context} \n",
    "            Answer:\"\"\",\n",
    "        ),\n",
    "    ]\n",
    ")\n",
    "\n",
    "rag_chain = (\n",
    "    {\"context\": retriever, \"question\": RunnablePassthrough()}\n",
    "    | prompt\n",
    "    | llm\n",
    "    | StrOutputParser()\n",
    ")\n",
    "\n",
    "rag_chain.invoke(\"what engineering courses are there?\")"
   ]
  },
  {
   "cell_type": "code",
   "execution_count": 1,
   "metadata": {},
   "outputs": [
    {
     "data": {
      "text/plain": [
       "True"
      ]
     },
     "execution_count": 1,
     "metadata": {},
     "output_type": "execute_result"
    }
   ],
   "source": [
    "# clearing redis database\n",
    "\n",
    "import redis\n",
    "\n",
    "r = redis.Redis(\n",
    "  host='redis-19030.c1.ap-southeast-1-1.ec2.redns.redis-cloud.com',\n",
    "  port=19030,\n",
    "  password='QunO4NqEvyeZhAl4NYz1hzWiPIKyJAhH')\n",
    "\n",
    "# Delete all keys in db\n",
    "r.flushdb()"
   ]
  },
  {
   "cell_type": "code",
   "execution_count": null,
   "metadata": {},
   "outputs": [],
   "source": []
  }
 ],
 "metadata": {
  "kernelspec": {
   "display_name": "env_chat",
   "language": "python",
   "name": "python3"
  },
  "language_info": {
   "codemirror_mode": {
    "name": "ipython",
    "version": 3
   },
   "file_extension": ".py",
   "mimetype": "text/x-python",
   "name": "python",
   "nbconvert_exporter": "python",
   "pygments_lexer": "ipython3",
   "version": "3.10.12"
  }
 },
 "nbformat": 4,
 "nbformat_minor": 2
}

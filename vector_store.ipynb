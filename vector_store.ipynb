{
 "cells": [
  {
   "cell_type": "code",
   "execution_count": 16,
   "metadata": {},
   "outputs": [],
   "source": [
    "from langchain_openai import OpenAIEmbeddings\n",
    "from dotenv import dotenv_values\n",
    "import json\n",
    "from langchain.document_loaders import PyPDFLoader\n",
    "from langchain.text_splitter import RecursiveCharacterTextSplitter\n",
    "from langchain_redis import RedisConfig, RedisVectorStore\n",
    "\n",
    "# retrieving the env file\n",
    "env_vars = dotenv_values(\".env\")\n",
    "\n",
    "REDIS_URL = env_vars[\"REDIS_URL\"]\n",
    "\n",
    "# entering the creditials\n",
    "embeddings = OpenAIEmbeddings(\n",
    "    model=\"text-embedding-3-small\",\n",
    "    api_key=env_vars[\"OPENAI_API_KEY\"],\n",
    ")\n",
    "\n",
    "# defining the configuration\n",
    "config = RedisConfig(\n",
    "    index_name=\"documents\",\n",
    "    redis_url=REDIS_URL,\n",
    "    metadata_schema=[\n",
    "        {\"name\": \"category\", \"type\": \"tag\"},\n",
    "    ],\n",
    ")\n",
    "\n",
    "vector_store = RedisVectorStore(embeddings, config=config)\n",
    "\n",
    "# handling JSON files\n",
    "def json_adder(filename, vector_store):\n",
    "\n",
    "    # each JSON file has to have a category and a content\n",
    "\n",
    "    # Loading the JSON file\n",
    "    with open(filename, 'r') as f:\n",
    "        json_data = json.load(f)\n",
    "\n",
    "    # Extract texts and metadata from the JSON file\n",
    "    json_texts = [item[\"content\"] for item in json_data]\n",
    "    json_metadata = [{\"category\": item[\"category\"]} for item in json_data]\n",
    "\n",
    "    # Add JSON data to Redis vector store\n",
    "    vector_store.add_texts(json_texts, json_metadata)\n",
    "\n",
    "# handling PDF files\n",
    "def pdf_adder(filename, vector_store):\n",
    "\n",
    "    # Load the PDF\n",
    "    pdf_loader = PyPDFLoader(filename)\n",
    "    pdf_docs = pdf_loader.load()\n",
    "\n",
    "    # Split the PDF into smaller chunks\n",
    "    text_splitter = RecursiveCharacterTextSplitter(chunk_size=1000, chunk_overlap=200)\n",
    "    pdf_splits = text_splitter.split_documents(pdf_docs)\n",
    "\n",
    "    # Extract texts and metadata from PDF splits\n",
    "    pdf_texts = [chunk.page_content for chunk in pdf_splits]\n",
    "    pdf_metadata = [{\"page_number\": chunk.metadata.get(\"page\", \"unknown\"), \"category\": \"pdf\"} for chunk in pdf_splits]\n",
    "\n",
    "    vector_store.add_texts(pdf_texts, pdf_metadata)\n",
    "\n",
    "json_location = \"/home/krispy_noodles/vector_redis/assets/sit_data.json\"\n",
    "\n",
    "# Adding JSON files\n",
    "# json_adder(json_location, vector_store)\n",
    "\n",
    "json_adder(\"/home/krispy_noodles/vector_redis/assets/Graduate_Employment_Survey_2023.json\", vector_store)\n",
    "json_adder(\"/home/krispy_noodles/vector_redis/assets/CCR_data.json\", vector_store)\n",
    "json_adder(\"/home/krispy_noodles/vector_redis/assets/sit_data.json\", vector_store)\n",
    "\n",
    "# Add PDF chunks to Redis vector store\n",
    "pdf_location = \"/home/krispy_noodles/vector_redis/assets/Rules-and-Regulations-of-SIT-Learner-Behaviour-Final.pdf\"\n",
    "# pdf_adder(pdf_location, vector_store)\n",
    "\n",
    "pdf_adder(\"/home/krispy_noodles/vector_redis/assets/SIT_handbook.pdf\", vector_store)\n",
    "pdf_adder(\"/home/krispy_noodles/vector_redis/assets/Rules-and-Regulations-of-SIT-Learner-Behaviour-Final.pdf\", vector_store)"
   ]
  },
  {
   "cell_type": "code",
   "execution_count": 17,
   "metadata": {},
   "outputs": [
    {
     "data": {
      "text/plain": [
       "True"
      ]
     },
     "execution_count": 17,
     "metadata": {},
     "output_type": "execute_result"
    }
   ],
   "source": [
    "import redis\n",
    "\n",
    "# retrieving the env file\n",
    "env_vars = dotenv_values(\".env\")\n",
    "\n",
    "REDIS_URL = env_vars[\"REDIS_URL\"]\n",
    "\n",
    "# r = redis.Redis(\n",
    "#   host='redis-19030.c1.ap-southeast-1-1.ec2.redns.redis-cloud.com',\n",
    "#   port=19030,\n",
    "#   password=env_vars[\"REDIS_PW\"])\n",
    "\n",
    "r = redis.Redis(\n",
    "  host='redis-10327.c84.us-east-1-2.ec2.redns.redis-cloud.com',\n",
    "  port=10327,\n",
    "  password=env_vars[\"REDIS_PW\"])\n",
    "\n",
    "# converting the vector store into a yaml file\n",
    "yml_file_name = \"redis_schema.yaml\"\n",
    "\n",
    "vector_store.index.schema.to_yaml(yml_file_name)\n",
    "\n",
    "# Read the YAML file contents\n",
    "with open(yml_file_name, 'r') as f:\n",
    "    schema_yaml = f.read()\n",
    "\n",
    "# Store the YAML schema in Redis\n",
    "r.set(\"vector_store_schema\", schema_yaml)"
   ]
  },
  {
   "cell_type": "code",
   "execution_count": 18,
   "metadata": {},
   "outputs": [
    {
     "data": {
      "text/plain": [
       "[Document(metadata={'category': 'General FAQ'}, page_content=\"Question: What is unique about SIT? Answer: As Singapore's first university of applied learning, we develop individuals and innovate with industry to impact the economy and society in meaningful ways. And we do this through our unique applied learning pedagogy. Read more about our latest successes and happenings on our [newsroom](https://www.singaporetech.edu.sg/news) and learn more about the SIT experience on the [Why SIT page](https://www.singaporetech.edu.sg/why-sit).\"),\n",
       " Document(metadata={'category': 'pdf'}, page_content='We believe that learning should not be limited to the \\nclassroom. At SIT, we encourage you to venture out of \\nyour comfort zone and brave new challenges to deepen \\nand broaden your learning journey. \\nFor students pursuing SIT -conferred and joint degree \\nprogrammes, you will get a chance to participate in \\ncarefully designed programmes such as the Overseas \\nExposure Programme (OEP)1, International Internship \\nProgramme (IIP) and Overseas Integrated Work Study \\nProgramme (OIWSP).\\nFor students pursuing joint or Overseas University (OU) \\nundergraduate programmes, the compulsory2 Overseas \\nImmersion Programme (OIP) will provide greater \\nlearning experiences through international exposure. \\nYou will get to interact with your university professors \\nand mentors while experiencing life abroad with fellow \\noverseas counterparts.\\n1 The Overseas Exposure Programme (OEP) is an optional programme \\nthat is available to selected SIT programmes and joint programmes.'),\n",
       " Document(metadata={'category': 'pdf'}, page_content='STRONG \\nEMPLOYMENT \\nOUTCOMES\\nOur graduates continue to be in demand, \\nwith high overall employment and starting \\nsalaries. More than 95%* of our graduates \\nwere employed within six months after \\ngraduation despite the current economic \\nclimate. SIT’s uniquely structured Integrated \\nWork Study Programme (IWSP), is an \\nintegral component of SIT -conferred and \\njoint degrees. It provides students with \\nvaluable industry experience, so you can hit \\nthe ground running when you embark on \\nyour careers.\\n*Source: 2021 Graduate Employment SurveyGAIN \\nGLOBAL \\nPERSPECTIVES\\nSIT’s strong ties with reputable overseas \\nuniversities and industry partners \\nwill provide you with a world-class \\neducation. Expand your global outlook \\nwhen you study at the home campus \\nof your overseas university through the \\nOverseas Immersion Programme (OIP). \\nLearn more about industry practices \\nin foreign companies through the \\nOverseas Exposure Programme (OEP), \\nInternational Internship Programme')]"
      ]
     },
     "execution_count": 18,
     "metadata": {},
     "output_type": "execute_result"
    }
   ],
   "source": [
    "retriever = vector_store.as_retriever(search_type=\"similarity\", search_kwargs={\"k\":3})\n",
    "reply = retriever.invoke(\"Why join SIT?\")\n",
    "\n",
    "reply"
   ]
  },
  {
   "cell_type": "code",
   "execution_count": null,
   "metadata": {},
   "outputs": [
    {
     "data": {
      "text/plain": [
       "True"
      ]
     },
     "execution_count": 15,
     "metadata": {},
     "output_type": "execute_result"
    }
   ],
   "source": [
    "# # clearing redis database\n",
    "\n",
    "# import redis\n",
    "\n",
    "# r = redis.Redis(\n",
    "#   host='redis-10327.c84.us-east-1-2.ec2.redns.redis-cloud.com',\n",
    "#   port=10327,\n",
    "#   password='6CmQl65vgBCv53HRDE35WVCxraEzzPsM')\n",
    "\n",
    "# # Delete all keys in db\n",
    "# r.flushdb()"
   ]
  },
  {
   "cell_type": "code",
   "execution_count": null,
   "metadata": {},
   "outputs": [],
   "source": []
  }
 ],
 "metadata": {
  "kernelspec": {
   "display_name": "env_chat",
   "language": "python",
   "name": "python3"
  },
  "language_info": {
   "codemirror_mode": {
    "name": "ipython",
    "version": 3
   },
   "file_extension": ".py",
   "mimetype": "text/x-python",
   "name": "python",
   "nbconvert_exporter": "python",
   "pygments_lexer": "ipython3",
   "version": "3.10.12"
  }
 },
 "nbformat": 4,
 "nbformat_minor": 2
}

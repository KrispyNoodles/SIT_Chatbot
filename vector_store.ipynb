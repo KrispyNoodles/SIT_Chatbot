{
 "cells": [
  {
   "cell_type": "code",
   "execution_count": 3,
   "metadata": {},
   "outputs": [
    {
     "name": "stdout",
     "output_type": "stream",
     "text": [
      "21:21:45 redisvl.index.index INFO   Index already exists, not overwriting.\n"
     ]
    }
   ],
   "source": [
    "# creating a vector redis store\n",
    "from config import embeddings, REDIS_URL, r\n",
    "from langchain_redis import RedisConfig, RedisVectorStore\n",
    "\n",
    "config = RedisConfig(\n",
    "    index_name=\"documents\",\n",
    "    redis_url=REDIS_URL,\n",
    "    metadata_schema=[\n",
    "        {\"name\": \"category\", \"type\": \"tag\"},\n",
    "    ],\n",
    ")\n",
    "\n",
    "vector_store = RedisVectorStore(embeddings, config=config)"
   ]
  },
  {
   "cell_type": "code",
   "execution_count": null,
   "metadata": {},
   "outputs": [],
   "source": [
    "import json\n",
    "from langchain.document_loaders import PyPDFLoader\n",
    "from langchain.text_splitter import RecursiveCharacterTextSplitter\n",
    "\n",
    "# handling JSON files\n",
    "def json_adder(filename, vector_store):\n",
    "\n",
    "    # each JSON file has to have a category and a content\n",
    "\n",
    "    # Loading the JSON file\n",
    "    with open(filename, 'r') as f:\n",
    "        json_data = json.load(f)\n",
    "\n",
    "    # Extract texts and metadata from the JSON file\n",
    "    json_texts = [item[\"content\"] for item in json_data]\n",
    "    json_metadata = [{\"category\": item[\"category\"]} for item in json_data]\n",
    "\n",
    "    # Add JSON data to Redis vector store\n",
    "    vector_store.add_texts(json_texts, json_metadata)\n",
    "\n",
    "# handling PDF files\n",
    "def pdf_adder(filename, vector_store):\n",
    "\n",
    "    # Load the PDF\n",
    "    pdf_loader = PyPDFLoader(filename)\n",
    "    pdf_docs = pdf_loader.load()\n",
    "\n",
    "    # Split the PDF into smaller chunks\n",
    "    text_splitter = RecursiveCharacterTextSplitter(chunk_size=1000, chunk_overlap=200)\n",
    "    pdf_splits = text_splitter.split_documents(pdf_docs)\n",
    "\n",
    "    # Extract texts and metadata from PDF splits\n",
    "    pdf_texts = [chunk.page_content for chunk in pdf_splits]\n",
    "    pdf_metadata = [{\"page_number\": chunk.metadata.get(\"page\", \"unknown\"), \"category\": \"pdf\"} for chunk in pdf_splits]\n",
    "\n",
    "    vector_store.add_texts(pdf_texts, pdf_metadata)\n",
    "\n",
    "# Adding JSON files\n",
    "json_location = \"/home/krispy_noodles/SIT_Chatbot/assets/json/SIT_General_FAQ.json\"\n",
    "# json_adder(json_location, vector_store)\n",
    "\n",
    "# # Add PDF chunks to Redis vector store\n",
    "pdf_location = \"/home/krispy_noodles/SIT_Chatbot/assets/pdf/Rules-and-Regulations-of-SIT-Learner-Behaviour-Final.pdf\"\n",
    "# pdf_adder(pdf_location, vector_store)"
   ]
  },
  {
   "cell_type": "code",
   "execution_count": null,
   "metadata": {},
   "outputs": [
    {
     "name": "stderr",
     "output_type": "stream",
     "text": [
      "Ignoring wrong pointing object 22 0 (offset 0)\n",
      "Ignoring wrong pointing object 830 0 (offset 0)\n"
     ]
    }
   ],
   "source": [
    "# from redis_db import new_vector_store\n",
    "\n",
    "# Adding JSON files\n",
    "json_location = \"/home/krispy_noodles/SIT_Chatbot/assets/json/CCR_data.json\"\n",
    "json_adder(json_location, vector_store)\n",
    "\n",
    "json_location = \"/home/krispy_noodles/SIT_Chatbot/assets/json/course_links.json\"\n",
    "json_adder(json_location, vector_store)\n",
    "\n",
    "json_location = \"/home/krispy_noodles/SIT_Chatbot/assets/json/Graduate_Employment_Survey_2023.json\"\n",
    "json_adder(json_location, vector_store)\n",
    "\n",
    "json_location = \"/home/krispy_noodles/SIT_Chatbot/assets/json/sit_data.json\"\n",
    "json_adder(json_location, vector_store)\n",
    "\n",
    "# Add PDF chunks to Redis vector store\n",
    "pdf_location = \"/home/krispy_noodles/SIT_Chatbot/assets/pdf/matriculation_guide.pdf\"\n",
    "pdf_adder(pdf_location, vector_store)\n",
    "\n",
    "pdf_location = \"/home/krispy_noodles/SIT_Chatbot/assets/pdf/Rules-and-Regulations-of-SIT-Learner-Behaviour-Final.pdf\"\n",
    "pdf_adder(pdf_location, vector_store)\n",
    "\n",
    "pdf_location = \"/home/krispy_noodles/SIT_Chatbot/assets/pdf/SIT_Annual_Report.pdf\"\n",
    "pdf_adder(pdf_location, vector_store)\n",
    "\n",
    "pdf_location = \"/home/krispy_noodles/SIT_Chatbot/assets/pdf/SIT_handbook.pdf\"\n",
    "pdf_adder(pdf_location, vector_store)\n",
    "\n",
    "pdf_location = \"/home/krispy_noodles/SIT_Chatbot/assets/pdf/Web_Publication_SIT GES_2023.pdf\"\n",
    "pdf_adder(pdf_location, vector_store)"
   ]
  },
  {
   "cell_type": "code",
   "execution_count": 16,
   "metadata": {},
   "outputs": [
    {
     "name": "stdout",
     "output_type": "stream",
     "text": [
      "True\n"
     ]
    }
   ],
   "source": [
    "import redis\n",
    "from dotenv import dotenv_values\n",
    "\n",
    "# retrieving the env file\n",
    "env_vars = dotenv_values(\".env\")\n",
    "\n",
    "REDIS_URL = env_vars[\"REDIS_URL\"]\n",
    "\n",
    "r = redis.Redis(\n",
    "  host='redis-19084.c10.us-east-1-4.ec2.redns.redis-cloud.com',\n",
    "  port=19084,\n",
    "  password=env_vars[\"REDIS_PW\"]\n",
    ")\n",
    "\n",
    "# converting the vector store into a yaml file\n",
    "yml_file_name = \"redis_schema.yaml\"\n",
    "\n",
    "vector_store.index.schema.to_yaml(yml_file_name)\n",
    "\n",
    "# Read the YAML file contents\n",
    "with open(yml_file_name, 'r') as f:\n",
    "    schema_yaml = f.read()\n",
    "\n",
    "# Store the YAML schema in Redis\n",
    "r.set(\"vector_store_schema\", schema_yaml)\n",
    "\n",
    "response = r.ping()\n",
    "print(response)"
   ]
  },
  {
   "cell_type": "code",
   "execution_count": 15,
   "metadata": {},
   "outputs": [
    {
     "name": "stdout",
     "output_type": "stream",
     "text": [
      "21:26:24 redisvl.index.index INFO   Index already exists, not overwriting.\n"
     ]
    },
    {
     "data": {
      "text/plain": [
       "[Document(metadata={'category': 'General FAQ'}, page_content=\"Question: What is SIT's Mission? Answer: To maximise the potential of our learners and to innovate with industry, through an integrated applied learning and research approach, so as to contribute to the economy and society.\"),\n",
       " Document(metadata={'category': 'General FAQ'}, page_content=\"Question: What is unique about SIT? Answer: As Singapore's first university of applied learning, we develop individuals and innovate with industry to impact the economy and society in meaningful ways. And we do this through our unique applied learning pedagogy. Read more about our latest successes and happenings on our [newsroom](https://www.singaporetech.edu.sg/news) and learn more about the SIT experience on the [Why SIT page](https://www.singaporetech.edu.sg/why-sit).\"),\n",
       " Document(metadata={'category': 'pdf'}, page_content='SIT for one trimester, while concurrently pursuing \\ntheir degree programme in their home university. \\nLikewise, SIT students can elect to take selected \\ncourses at other local partner universities.\\nVarious community events that our students have participated in\\nSIT Photos: Office of SITizen Experience\\nSIT Bowling and SIT Astronomers – two of the 156 vibrant student \\ngroups in SIT\\nPhoto: SIT Bowling, SIT AstronomersFive new ASEAN-China-India (ACI) countries (Malaysia, Indonesia, \\nThailand, Vietnam and China) were engaged to:\\n    Co-develop Overseas Immersion Programmes (OIP) with university and industry \\npartners in Vietnam, Indonesia and China.\\n    Conduct Social Innovation Projects (SIP) tackling public health and sustainability \\nproblem statements with university partners in Malaysia and Indonesia.\\n    Organise exchanges of staff and students from BCD and HSS clusters in \\nAccountancy, Hospitality Business and Public Health with university partners \\nin Indonesia.')]"
      ]
     },
     "execution_count": 15,
     "metadata": {},
     "output_type": "execute_result"
    }
   ],
   "source": [
    "from redis_db import vector_store\n",
    "\n",
    "retriever = vector_store.as_retriever(search_type=\"similarity\", search_kwargs={\"k\":3})\n",
    "reply = retriever.invoke(\"Why join SIT?\")\n",
    "\n",
    "reply"
   ]
  },
  {
   "cell_type": "code",
   "execution_count": null,
   "metadata": {},
   "outputs": [
    {
     "data": {
      "text/plain": [
       "True"
      ]
     },
     "execution_count": 3,
     "metadata": {},
     "output_type": "execute_result"
    }
   ],
   "source": [
    "# clearing redis database\n",
    "\n",
    "# from config import r\n",
    "\n",
    "# # Delete all keys in db\n",
    "# r.flushdb()"
   ]
  },
  {
   "cell_type": "code",
   "execution_count": null,
   "metadata": {},
   "outputs": [],
   "source": []
  }
 ],
 "metadata": {
  "kernelspec": {
   "display_name": "env_chat",
   "language": "python",
   "name": "python3"
  },
  "language_info": {
   "codemirror_mode": {
    "name": "ipython",
    "version": 3
   },
   "file_extension": ".py",
   "mimetype": "text/x-python",
   "name": "python",
   "nbconvert_exporter": "python",
   "pygments_lexer": "ipython3",
   "version": "3.10.12"
  }
 },
 "nbformat": 4,
 "nbformat_minor": 2
}
